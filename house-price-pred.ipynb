{
 "cells": [
  {
   "cell_type": "code",
   "execution_count": 1,
   "id": "4129f181",
   "metadata": {
    "_cell_guid": "b1076dfc-b9ad-4769-8c92-a6c4dae69d19",
    "_uuid": "8f2839f25d086af736a60e9eeb907d3b93b6e0e5",
    "execution": {
     "iopub.execute_input": "2025-04-29T03:38:03.783584Z",
     "iopub.status.busy": "2025-04-29T03:38:03.782991Z",
     "iopub.status.idle": "2025-04-29T03:38:06.028179Z",
     "shell.execute_reply": "2025-04-29T03:38:06.027060Z"
    },
    "papermill": {
     "duration": 2.257315,
     "end_time": "2025-04-29T03:38:06.030308",
     "exception": false,
     "start_time": "2025-04-29T03:38:03.772993",
     "status": "completed"
    },
    "tags": []
   },
   "outputs": [
    {
     "name": "stdout",
     "output_type": "stream",
     "text": [
      "/kaggle/input/housing-price-prediction/Housing.csv\n"
     ]
    }
   ],
   "source": [
    "# This Python 3 environment comes with many helpful analytics libraries installed\n",
    "# It is defined by the kaggle/python Docker image: https://github.com/kaggle/docker-python\n",
    "# For example, here's several helpful packages to load\n",
    "\n",
    "import numpy as np # linear algebra\n",
    "import pandas as pd # data processing, CSV file I/O (e.g. pd.read_csv)\n",
    "\n",
    "# Input data files are available in the read-only \"../input/\" directory\n",
    "# For example, running this (by clicking run or pressing Shift+Enter) will list all files under the input directory\n",
    "\n",
    "import os\n",
    "for dirname, _, filenames in os.walk('/kaggle/input'):\n",
    "    for filename in filenames:\n",
    "        print(os.path.join(dirname, filename))\n",
    "\n",
    "# You can write up to 20GB to the current directory (/kaggle/working/) that gets preserved as output when you create a version using \"Save & Run All\" \n",
    "# You can also write temporary files to /kaggle/temp/, but they won't be saved outside of the current session"
   ]
  },
  {
   "cell_type": "markdown",
   "id": "a00cab25",
   "metadata": {
    "papermill": {
     "duration": 0.006866,
     "end_time": "2025-04-29T03:38:06.044758",
     "exception": false,
     "start_time": "2025-04-29T03:38:06.037892",
     "status": "completed"
    },
    "tags": []
   },
   "source": [
    "# loading the datasets:"
   ]
  },
  {
   "cell_type": "code",
   "execution_count": 2,
   "id": "f09f81eb",
   "metadata": {
    "execution": {
     "iopub.execute_input": "2025-04-29T03:38:06.060238Z",
     "iopub.status.busy": "2025-04-29T03:38:06.059797Z",
     "iopub.status.idle": "2025-04-29T03:38:06.087799Z",
     "shell.execute_reply": "2025-04-29T03:38:06.086684Z"
    },
    "papermill": {
     "duration": 0.037935,
     "end_time": "2025-04-29T03:38:06.089593",
     "exception": false,
     "start_time": "2025-04-29T03:38:06.051658",
     "status": "completed"
    },
    "tags": []
   },
   "outputs": [],
   "source": [
    "df=pd.read_csv('/kaggle/input/housing-price-prediction/Housing.csv')"
   ]
  },
  {
   "cell_type": "code",
   "execution_count": 3,
   "id": "55ab7d4d",
   "metadata": {
    "execution": {
     "iopub.execute_input": "2025-04-29T03:38:06.104307Z",
     "iopub.status.busy": "2025-04-29T03:38:06.103975Z",
     "iopub.status.idle": "2025-04-29T03:38:06.133688Z",
     "shell.execute_reply": "2025-04-29T03:38:06.132730Z"
    },
    "papermill": {
     "duration": 0.038861,
     "end_time": "2025-04-29T03:38:06.135202",
     "exception": false,
     "start_time": "2025-04-29T03:38:06.096341",
     "status": "completed"
    },
    "tags": []
   },
   "outputs": [
    {
     "data": {
      "text/html": [
       "<div>\n",
       "<style scoped>\n",
       "    .dataframe tbody tr th:only-of-type {\n",
       "        vertical-align: middle;\n",
       "    }\n",
       "\n",
       "    .dataframe tbody tr th {\n",
       "        vertical-align: top;\n",
       "    }\n",
       "\n",
       "    .dataframe thead th {\n",
       "        text-align: right;\n",
       "    }\n",
       "</style>\n",
       "<table border=\"1\" class=\"dataframe\">\n",
       "  <thead>\n",
       "    <tr style=\"text-align: right;\">\n",
       "      <th></th>\n",
       "      <th>price</th>\n",
       "      <th>area</th>\n",
       "      <th>bedrooms</th>\n",
       "      <th>bathrooms</th>\n",
       "      <th>stories</th>\n",
       "      <th>mainroad</th>\n",
       "      <th>guestroom</th>\n",
       "      <th>basement</th>\n",
       "      <th>hotwaterheating</th>\n",
       "      <th>airconditioning</th>\n",
       "      <th>parking</th>\n",
       "      <th>prefarea</th>\n",
       "      <th>furnishingstatus</th>\n",
       "    </tr>\n",
       "  </thead>\n",
       "  <tbody>\n",
       "    <tr>\n",
       "      <th>0</th>\n",
       "      <td>13300000</td>\n",
       "      <td>7420</td>\n",
       "      <td>4</td>\n",
       "      <td>2</td>\n",
       "      <td>3</td>\n",
       "      <td>yes</td>\n",
       "      <td>no</td>\n",
       "      <td>no</td>\n",
       "      <td>no</td>\n",
       "      <td>yes</td>\n",
       "      <td>2</td>\n",
       "      <td>yes</td>\n",
       "      <td>furnished</td>\n",
       "    </tr>\n",
       "    <tr>\n",
       "      <th>1</th>\n",
       "      <td>12250000</td>\n",
       "      <td>8960</td>\n",
       "      <td>4</td>\n",
       "      <td>4</td>\n",
       "      <td>4</td>\n",
       "      <td>yes</td>\n",
       "      <td>no</td>\n",
       "      <td>no</td>\n",
       "      <td>no</td>\n",
       "      <td>yes</td>\n",
       "      <td>3</td>\n",
       "      <td>no</td>\n",
       "      <td>furnished</td>\n",
       "    </tr>\n",
       "    <tr>\n",
       "      <th>2</th>\n",
       "      <td>12250000</td>\n",
       "      <td>9960</td>\n",
       "      <td>3</td>\n",
       "      <td>2</td>\n",
       "      <td>2</td>\n",
       "      <td>yes</td>\n",
       "      <td>no</td>\n",
       "      <td>yes</td>\n",
       "      <td>no</td>\n",
       "      <td>no</td>\n",
       "      <td>2</td>\n",
       "      <td>yes</td>\n",
       "      <td>semi-furnished</td>\n",
       "    </tr>\n",
       "    <tr>\n",
       "      <th>3</th>\n",
       "      <td>12215000</td>\n",
       "      <td>7500</td>\n",
       "      <td>4</td>\n",
       "      <td>2</td>\n",
       "      <td>2</td>\n",
       "      <td>yes</td>\n",
       "      <td>no</td>\n",
       "      <td>yes</td>\n",
       "      <td>no</td>\n",
       "      <td>yes</td>\n",
       "      <td>3</td>\n",
       "      <td>yes</td>\n",
       "      <td>furnished</td>\n",
       "    </tr>\n",
       "    <tr>\n",
       "      <th>4</th>\n",
       "      <td>11410000</td>\n",
       "      <td>7420</td>\n",
       "      <td>4</td>\n",
       "      <td>1</td>\n",
       "      <td>2</td>\n",
       "      <td>yes</td>\n",
       "      <td>yes</td>\n",
       "      <td>yes</td>\n",
       "      <td>no</td>\n",
       "      <td>yes</td>\n",
       "      <td>2</td>\n",
       "      <td>no</td>\n",
       "      <td>furnished</td>\n",
       "    </tr>\n",
       "  </tbody>\n",
       "</table>\n",
       "</div>"
      ],
      "text/plain": [
       "      price  area  bedrooms  bathrooms  stories mainroad guestroom basement  \\\n",
       "0  13300000  7420         4          2        3      yes        no       no   \n",
       "1  12250000  8960         4          4        4      yes        no       no   \n",
       "2  12250000  9960         3          2        2      yes        no      yes   \n",
       "3  12215000  7500         4          2        2      yes        no      yes   \n",
       "4  11410000  7420         4          1        2      yes       yes      yes   \n",
       "\n",
       "  hotwaterheating airconditioning  parking prefarea furnishingstatus  \n",
       "0              no             yes        2      yes        furnished  \n",
       "1              no             yes        3       no        furnished  \n",
       "2              no              no        2      yes   semi-furnished  \n",
       "3              no             yes        3      yes        furnished  \n",
       "4              no             yes        2       no        furnished  "
      ]
     },
     "execution_count": 3,
     "metadata": {},
     "output_type": "execute_result"
    }
   ],
   "source": [
    "df.head()"
   ]
  },
  {
   "cell_type": "markdown",
   "id": "15941f7b",
   "metadata": {
    "papermill": {
     "duration": 0.006597,
     "end_time": "2025-04-29T03:38:06.149062",
     "exception": false,
     "start_time": "2025-04-29T03:38:06.142465",
     "status": "completed"
    },
    "tags": []
   },
   "source": [
    "# Evaluating the dataset:"
   ]
  },
  {
   "cell_type": "code",
   "execution_count": 4,
   "id": "475817e4",
   "metadata": {
    "execution": {
     "iopub.execute_input": "2025-04-29T03:38:06.164202Z",
     "iopub.status.busy": "2025-04-29T03:38:06.163843Z",
     "iopub.status.idle": "2025-04-29T03:38:06.170992Z",
     "shell.execute_reply": "2025-04-29T03:38:06.170016Z"
    },
    "papermill": {
     "duration": 0.016654,
     "end_time": "2025-04-29T03:38:06.172744",
     "exception": false,
     "start_time": "2025-04-29T03:38:06.156090",
     "status": "completed"
    },
    "tags": []
   },
   "outputs": [
    {
     "data": {
      "text/plain": [
       "(545, 13)"
      ]
     },
     "execution_count": 4,
     "metadata": {},
     "output_type": "execute_result"
    }
   ],
   "source": [
    "df.shape"
   ]
  },
  {
   "cell_type": "code",
   "execution_count": 5,
   "id": "4047a3d6",
   "metadata": {
    "execution": {
     "iopub.execute_input": "2025-04-29T03:38:06.188449Z",
     "iopub.status.busy": "2025-04-29T03:38:06.188127Z",
     "iopub.status.idle": "2025-04-29T03:38:06.199641Z",
     "shell.execute_reply": "2025-04-29T03:38:06.198613Z"
    },
    "papermill": {
     "duration": 0.021394,
     "end_time": "2025-04-29T03:38:06.201283",
     "exception": false,
     "start_time": "2025-04-29T03:38:06.179889",
     "status": "completed"
    },
    "tags": []
   },
   "outputs": [
    {
     "data": {
      "text/plain": [
       "price               0\n",
       "area                0\n",
       "bedrooms            0\n",
       "bathrooms           0\n",
       "stories             0\n",
       "mainroad            0\n",
       "guestroom           0\n",
       "basement            0\n",
       "hotwaterheating     0\n",
       "airconditioning     0\n",
       "parking             0\n",
       "prefarea            0\n",
       "furnishingstatus    0\n",
       "dtype: int64"
      ]
     },
     "execution_count": 5,
     "metadata": {},
     "output_type": "execute_result"
    }
   ],
   "source": [
    "df.isnull().sum()"
   ]
  },
  {
   "cell_type": "code",
   "execution_count": 6,
   "id": "d50047f5",
   "metadata": {
    "execution": {
     "iopub.execute_input": "2025-04-29T03:38:06.217052Z",
     "iopub.status.busy": "2025-04-29T03:38:06.216286Z",
     "iopub.status.idle": "2025-04-29T03:38:06.232139Z",
     "shell.execute_reply": "2025-04-29T03:38:06.230964Z"
    },
    "papermill": {
     "duration": 0.025473,
     "end_time": "2025-04-29T03:38:06.233814",
     "exception": false,
     "start_time": "2025-04-29T03:38:06.208341",
     "status": "completed"
    },
    "tags": []
   },
   "outputs": [
    {
     "data": {
      "text/plain": [
       "furnishingstatus\n",
       "semi-furnished    227\n",
       "unfurnished       178\n",
       "furnished         140\n",
       "Name: count, dtype: int64"
      ]
     },
     "execution_count": 6,
     "metadata": {},
     "output_type": "execute_result"
    }
   ],
   "source": [
    "df['furnishingstatus'].value_counts()"
   ]
  },
  {
   "cell_type": "code",
   "execution_count": 7,
   "id": "6deaa5e5",
   "metadata": {
    "execution": {
     "iopub.execute_input": "2025-04-29T03:38:06.249889Z",
     "iopub.status.busy": "2025-04-29T03:38:06.249505Z",
     "iopub.status.idle": "2025-04-29T03:38:06.257675Z",
     "shell.execute_reply": "2025-04-29T03:38:06.256615Z"
    },
    "papermill": {
     "duration": 0.017816,
     "end_time": "2025-04-29T03:38:06.259229",
     "exception": false,
     "start_time": "2025-04-29T03:38:06.241413",
     "status": "completed"
    },
    "tags": []
   },
   "outputs": [
    {
     "data": {
      "text/plain": [
       "prefarea\n",
       "no     417\n",
       "yes    128\n",
       "Name: count, dtype: int64"
      ]
     },
     "execution_count": 7,
     "metadata": {},
     "output_type": "execute_result"
    }
   ],
   "source": [
    "df['prefarea'].value_counts()"
   ]
  },
  {
   "cell_type": "code",
   "execution_count": 8,
   "id": "51234a10",
   "metadata": {
    "execution": {
     "iopub.execute_input": "2025-04-29T03:38:06.275704Z",
     "iopub.status.busy": "2025-04-29T03:38:06.274874Z",
     "iopub.status.idle": "2025-04-29T03:38:06.282490Z",
     "shell.execute_reply": "2025-04-29T03:38:06.281499Z"
    },
    "papermill": {
     "duration": 0.017114,
     "end_time": "2025-04-29T03:38:06.284042",
     "exception": false,
     "start_time": "2025-04-29T03:38:06.266928",
     "status": "completed"
    },
    "tags": []
   },
   "outputs": [
    {
     "data": {
      "text/plain": [
       "airconditioning\n",
       "no     373\n",
       "yes    172\n",
       "Name: count, dtype: int64"
      ]
     },
     "execution_count": 8,
     "metadata": {},
     "output_type": "execute_result"
    }
   ],
   "source": [
    "df['airconditioning'].value_counts()"
   ]
  },
  {
   "cell_type": "code",
   "execution_count": 9,
   "id": "4b6fc69f",
   "metadata": {
    "execution": {
     "iopub.execute_input": "2025-04-29T03:38:06.299464Z",
     "iopub.status.busy": "2025-04-29T03:38:06.299130Z",
     "iopub.status.idle": "2025-04-29T03:38:06.306596Z",
     "shell.execute_reply": "2025-04-29T03:38:06.305610Z"
    },
    "papermill": {
     "duration": 0.017087,
     "end_time": "2025-04-29T03:38:06.308286",
     "exception": false,
     "start_time": "2025-04-29T03:38:06.291199",
     "status": "completed"
    },
    "tags": []
   },
   "outputs": [
    {
     "data": {
      "text/plain": [
       "hotwaterheating\n",
       "no     520\n",
       "yes     25\n",
       "Name: count, dtype: int64"
      ]
     },
     "execution_count": 9,
     "metadata": {},
     "output_type": "execute_result"
    }
   ],
   "source": [
    "df['hotwaterheating'].value_counts()"
   ]
  },
  {
   "cell_type": "code",
   "execution_count": 10,
   "id": "612ed581",
   "metadata": {
    "execution": {
     "iopub.execute_input": "2025-04-29T03:38:06.324354Z",
     "iopub.status.busy": "2025-04-29T03:38:06.323997Z",
     "iopub.status.idle": "2025-04-29T03:38:06.332055Z",
     "shell.execute_reply": "2025-04-29T03:38:06.331060Z"
    },
    "papermill": {
     "duration": 0.018341,
     "end_time": "2025-04-29T03:38:06.334020",
     "exception": false,
     "start_time": "2025-04-29T03:38:06.315679",
     "status": "completed"
    },
    "tags": []
   },
   "outputs": [
    {
     "data": {
      "text/plain": [
       "basement\n",
       "no     354\n",
       "yes    191\n",
       "Name: count, dtype: int64"
      ]
     },
     "execution_count": 10,
     "metadata": {},
     "output_type": "execute_result"
    }
   ],
   "source": [
    "df['basement'].value_counts()"
   ]
  },
  {
   "cell_type": "code",
   "execution_count": 11,
   "id": "eb6749d1",
   "metadata": {
    "execution": {
     "iopub.execute_input": "2025-04-29T03:38:06.350342Z",
     "iopub.status.busy": "2025-04-29T03:38:06.350002Z",
     "iopub.status.idle": "2025-04-29T03:38:06.357796Z",
     "shell.execute_reply": "2025-04-29T03:38:06.356614Z"
    },
    "papermill": {
     "duration": 0.018078,
     "end_time": "2025-04-29T03:38:06.359557",
     "exception": false,
     "start_time": "2025-04-29T03:38:06.341479",
     "status": "completed"
    },
    "tags": []
   },
   "outputs": [
    {
     "data": {
      "text/plain": [
       "guestroom\n",
       "no     448\n",
       "yes     97\n",
       "Name: count, dtype: int64"
      ]
     },
     "execution_count": 11,
     "metadata": {},
     "output_type": "execute_result"
    }
   ],
   "source": [
    "df['guestroom']. value_counts()\n"
   ]
  },
  {
   "cell_type": "code",
   "execution_count": 12,
   "id": "f7192451",
   "metadata": {
    "execution": {
     "iopub.execute_input": "2025-04-29T03:38:06.376057Z",
     "iopub.status.busy": "2025-04-29T03:38:06.375777Z",
     "iopub.status.idle": "2025-04-29T03:38:06.383458Z",
     "shell.execute_reply": "2025-04-29T03:38:06.382626Z"
    },
    "papermill": {
     "duration": 0.018127,
     "end_time": "2025-04-29T03:38:06.385242",
     "exception": false,
     "start_time": "2025-04-29T03:38:06.367115",
     "status": "completed"
    },
    "tags": []
   },
   "outputs": [
    {
     "data": {
      "text/plain": [
       "mainroad\n",
       "yes    468\n",
       "no      77\n",
       "Name: count, dtype: int64"
      ]
     },
     "execution_count": 12,
     "metadata": {},
     "output_type": "execute_result"
    }
   ],
   "source": [
    "df['mainroad']. value_counts()"
   ]
  },
  {
   "cell_type": "markdown",
   "id": "4e9abe17",
   "metadata": {
    "papermill": {
     "duration": 0.007543,
     "end_time": "2025-04-29T03:38:06.400453",
     "exception": false,
     "start_time": "2025-04-29T03:38:06.392910",
     "status": "completed"
    },
    "tags": []
   },
   "source": [
    "# Preprocessing the data:"
   ]
  },
  {
   "cell_type": "markdown",
   "id": "5461dde1",
   "metadata": {
    "papermill": {
     "duration": 0.007362,
     "end_time": "2025-04-29T03:38:06.415353",
     "exception": false,
     "start_time": "2025-04-29T03:38:06.407991",
     "status": "completed"
    },
    "tags": []
   },
   "source": [
    "### Encoding the categorical value:"
   ]
  },
  {
   "cell_type": "code",
   "execution_count": 13,
   "id": "af70b915",
   "metadata": {
    "execution": {
     "iopub.execute_input": "2025-04-29T03:38:06.431954Z",
     "iopub.status.busy": "2025-04-29T03:38:06.431643Z",
     "iopub.status.idle": "2025-04-29T03:38:08.060009Z",
     "shell.execute_reply": "2025-04-29T03:38:08.058944Z"
    },
    "papermill": {
     "duration": 1.638924,
     "end_time": "2025-04-29T03:38:08.061837",
     "exception": false,
     "start_time": "2025-04-29T03:38:06.422913",
     "status": "completed"
    },
    "tags": []
   },
   "outputs": [],
   "source": [
    "from sklearn.preprocessing import LabelEncoder"
   ]
  },
  {
   "cell_type": "code",
   "execution_count": 14,
   "id": "c79cd38a",
   "metadata": {
    "execution": {
     "iopub.execute_input": "2025-04-29T03:38:08.078695Z",
     "iopub.status.busy": "2025-04-29T03:38:08.078127Z",
     "iopub.status.idle": "2025-04-29T03:38:08.083050Z",
     "shell.execute_reply": "2025-04-29T03:38:08.082236Z"
    },
    "papermill": {
     "duration": 0.01497,
     "end_time": "2025-04-29T03:38:08.084468",
     "exception": false,
     "start_time": "2025-04-29T03:38:08.069498",
     "status": "completed"
    },
    "tags": []
   },
   "outputs": [],
   "source": [
    "le=LabelEncoder()"
   ]
  },
  {
   "cell_type": "code",
   "execution_count": 15,
   "id": "8ddc85d8",
   "metadata": {
    "execution": {
     "iopub.execute_input": "2025-04-29T03:38:08.101012Z",
     "iopub.status.busy": "2025-04-29T03:38:08.100682Z",
     "iopub.status.idle": "2025-04-29T03:38:08.107948Z",
     "shell.execute_reply": "2025-04-29T03:38:08.107119Z"
    },
    "papermill": {
     "duration": 0.017109,
     "end_time": "2025-04-29T03:38:08.109348",
     "exception": false,
     "start_time": "2025-04-29T03:38:08.092239",
     "status": "completed"
    },
    "tags": []
   },
   "outputs": [
    {
     "data": {
      "text/plain": [
       "Index(['price', 'area', 'bedrooms', 'bathrooms', 'stories', 'mainroad',\n",
       "       'guestroom', 'basement', 'hotwaterheating', 'airconditioning',\n",
       "       'parking', 'prefarea', 'furnishingstatus'],\n",
       "      dtype='object')"
      ]
     },
     "execution_count": 15,
     "metadata": {},
     "output_type": "execute_result"
    }
   ],
   "source": [
    "df.columns"
   ]
  },
  {
   "cell_type": "code",
   "execution_count": 16,
   "id": "ed8e1893",
   "metadata": {
    "execution": {
     "iopub.execute_input": "2025-04-29T03:38:08.195585Z",
     "iopub.status.busy": "2025-04-29T03:38:08.195190Z",
     "iopub.status.idle": "2025-04-29T03:38:08.208718Z",
     "shell.execute_reply": "2025-04-29T03:38:08.207760Z"
    },
    "papermill": {
     "duration": 0.092672,
     "end_time": "2025-04-29T03:38:08.210358",
     "exception": false,
     "start_time": "2025-04-29T03:38:08.117686",
     "status": "completed"
    },
    "tags": []
   },
   "outputs": [
    {
     "data": {
      "text/html": [
       "<div>\n",
       "<style scoped>\n",
       "    .dataframe tbody tr th:only-of-type {\n",
       "        vertical-align: middle;\n",
       "    }\n",
       "\n",
       "    .dataframe tbody tr th {\n",
       "        vertical-align: top;\n",
       "    }\n",
       "\n",
       "    .dataframe thead th {\n",
       "        text-align: right;\n",
       "    }\n",
       "</style>\n",
       "<table border=\"1\" class=\"dataframe\">\n",
       "  <thead>\n",
       "    <tr style=\"text-align: right;\">\n",
       "      <th></th>\n",
       "      <th>price</th>\n",
       "      <th>area</th>\n",
       "      <th>bedrooms</th>\n",
       "      <th>bathrooms</th>\n",
       "      <th>stories</th>\n",
       "      <th>mainroad</th>\n",
       "      <th>guestroom</th>\n",
       "      <th>basement</th>\n",
       "      <th>hotwaterheating</th>\n",
       "      <th>airconditioning</th>\n",
       "      <th>parking</th>\n",
       "      <th>prefarea</th>\n",
       "      <th>furnishingstatus</th>\n",
       "    </tr>\n",
       "  </thead>\n",
       "  <tbody>\n",
       "    <tr>\n",
       "      <th>0</th>\n",
       "      <td>13300000</td>\n",
       "      <td>7420</td>\n",
       "      <td>4</td>\n",
       "      <td>2</td>\n",
       "      <td>3</td>\n",
       "      <td>yes</td>\n",
       "      <td>no</td>\n",
       "      <td>no</td>\n",
       "      <td>no</td>\n",
       "      <td>yes</td>\n",
       "      <td>2</td>\n",
       "      <td>yes</td>\n",
       "      <td>furnished</td>\n",
       "    </tr>\n",
       "    <tr>\n",
       "      <th>1</th>\n",
       "      <td>12250000</td>\n",
       "      <td>8960</td>\n",
       "      <td>4</td>\n",
       "      <td>4</td>\n",
       "      <td>4</td>\n",
       "      <td>yes</td>\n",
       "      <td>no</td>\n",
       "      <td>no</td>\n",
       "      <td>no</td>\n",
       "      <td>yes</td>\n",
       "      <td>3</td>\n",
       "      <td>no</td>\n",
       "      <td>furnished</td>\n",
       "    </tr>\n",
       "    <tr>\n",
       "      <th>2</th>\n",
       "      <td>12250000</td>\n",
       "      <td>9960</td>\n",
       "      <td>3</td>\n",
       "      <td>2</td>\n",
       "      <td>2</td>\n",
       "      <td>yes</td>\n",
       "      <td>no</td>\n",
       "      <td>yes</td>\n",
       "      <td>no</td>\n",
       "      <td>no</td>\n",
       "      <td>2</td>\n",
       "      <td>yes</td>\n",
       "      <td>semi-furnished</td>\n",
       "    </tr>\n",
       "    <tr>\n",
       "      <th>3</th>\n",
       "      <td>12215000</td>\n",
       "      <td>7500</td>\n",
       "      <td>4</td>\n",
       "      <td>2</td>\n",
       "      <td>2</td>\n",
       "      <td>yes</td>\n",
       "      <td>no</td>\n",
       "      <td>yes</td>\n",
       "      <td>no</td>\n",
       "      <td>yes</td>\n",
       "      <td>3</td>\n",
       "      <td>yes</td>\n",
       "      <td>furnished</td>\n",
       "    </tr>\n",
       "    <tr>\n",
       "      <th>4</th>\n",
       "      <td>11410000</td>\n",
       "      <td>7420</td>\n",
       "      <td>4</td>\n",
       "      <td>1</td>\n",
       "      <td>2</td>\n",
       "      <td>yes</td>\n",
       "      <td>yes</td>\n",
       "      <td>yes</td>\n",
       "      <td>no</td>\n",
       "      <td>yes</td>\n",
       "      <td>2</td>\n",
       "      <td>no</td>\n",
       "      <td>furnished</td>\n",
       "    </tr>\n",
       "  </tbody>\n",
       "</table>\n",
       "</div>"
      ],
      "text/plain": [
       "      price  area  bedrooms  bathrooms  stories mainroad guestroom basement  \\\n",
       "0  13300000  7420         4          2        3      yes        no       no   \n",
       "1  12250000  8960         4          4        4      yes        no       no   \n",
       "2  12250000  9960         3          2        2      yes        no      yes   \n",
       "3  12215000  7500         4          2        2      yes        no      yes   \n",
       "4  11410000  7420         4          1        2      yes       yes      yes   \n",
       "\n",
       "  hotwaterheating airconditioning  parking prefarea furnishingstatus  \n",
       "0              no             yes        2      yes        furnished  \n",
       "1              no             yes        3       no        furnished  \n",
       "2              no              no        2      yes   semi-furnished  \n",
       "3              no             yes        3      yes        furnished  \n",
       "4              no             yes        2       no        furnished  "
      ]
     },
     "execution_count": 16,
     "metadata": {},
     "output_type": "execute_result"
    }
   ],
   "source": [
    "df.head()"
   ]
  },
  {
   "cell_type": "code",
   "execution_count": 17,
   "id": "a5d391bc",
   "metadata": {
    "execution": {
     "iopub.execute_input": "2025-04-29T03:38:08.228451Z",
     "iopub.status.busy": "2025-04-29T03:38:08.228121Z",
     "iopub.status.idle": "2025-04-29T03:38:08.240646Z",
     "shell.execute_reply": "2025-04-29T03:38:08.239366Z"
    },
    "papermill": {
     "duration": 0.023613,
     "end_time": "2025-04-29T03:38:08.242229",
     "exception": false,
     "start_time": "2025-04-29T03:38:08.218616",
     "status": "completed"
    },
    "tags": []
   },
   "outputs": [],
   "source": [
    "df['mainroad']=le.fit_transform(df['mainroad'])\n",
    "df['guestroom']=le.fit_transform(df['guestroom'])\n",
    "df['basement']=le.fit_transform(df['basement'])\n",
    "df['hotwaterheating']=le.fit_transform(df['hotwaterheating'])\n",
    "df['airconditioning']=le.fit_transform(df['airconditioning'])\n",
    "df['prefarea']=le.fit_transform(df['prefarea'])\n",
    "df['furnishingstatus']=le.fit_transform(df['furnishingstatus'])"
   ]
  },
  {
   "cell_type": "code",
   "execution_count": 18,
   "id": "9817c5ac",
   "metadata": {
    "execution": {
     "iopub.execute_input": "2025-04-29T03:38:08.259858Z",
     "iopub.status.busy": "2025-04-29T03:38:08.259493Z",
     "iopub.status.idle": "2025-04-29T03:38:08.271114Z",
     "shell.execute_reply": "2025-04-29T03:38:08.270261Z"
    },
    "papermill": {
     "duration": 0.022225,
     "end_time": "2025-04-29T03:38:08.272722",
     "exception": false,
     "start_time": "2025-04-29T03:38:08.250497",
     "status": "completed"
    },
    "tags": []
   },
   "outputs": [
    {
     "data": {
      "text/html": [
       "<div>\n",
       "<style scoped>\n",
       "    .dataframe tbody tr th:only-of-type {\n",
       "        vertical-align: middle;\n",
       "    }\n",
       "\n",
       "    .dataframe tbody tr th {\n",
       "        vertical-align: top;\n",
       "    }\n",
       "\n",
       "    .dataframe thead th {\n",
       "        text-align: right;\n",
       "    }\n",
       "</style>\n",
       "<table border=\"1\" class=\"dataframe\">\n",
       "  <thead>\n",
       "    <tr style=\"text-align: right;\">\n",
       "      <th></th>\n",
       "      <th>price</th>\n",
       "      <th>area</th>\n",
       "      <th>bedrooms</th>\n",
       "      <th>bathrooms</th>\n",
       "      <th>stories</th>\n",
       "      <th>mainroad</th>\n",
       "      <th>guestroom</th>\n",
       "      <th>basement</th>\n",
       "      <th>hotwaterheating</th>\n",
       "      <th>airconditioning</th>\n",
       "      <th>parking</th>\n",
       "      <th>prefarea</th>\n",
       "      <th>furnishingstatus</th>\n",
       "    </tr>\n",
       "  </thead>\n",
       "  <tbody>\n",
       "    <tr>\n",
       "      <th>0</th>\n",
       "      <td>13300000</td>\n",
       "      <td>7420</td>\n",
       "      <td>4</td>\n",
       "      <td>2</td>\n",
       "      <td>3</td>\n",
       "      <td>1</td>\n",
       "      <td>0</td>\n",
       "      <td>0</td>\n",
       "      <td>0</td>\n",
       "      <td>1</td>\n",
       "      <td>2</td>\n",
       "      <td>1</td>\n",
       "      <td>0</td>\n",
       "    </tr>\n",
       "    <tr>\n",
       "      <th>1</th>\n",
       "      <td>12250000</td>\n",
       "      <td>8960</td>\n",
       "      <td>4</td>\n",
       "      <td>4</td>\n",
       "      <td>4</td>\n",
       "      <td>1</td>\n",
       "      <td>0</td>\n",
       "      <td>0</td>\n",
       "      <td>0</td>\n",
       "      <td>1</td>\n",
       "      <td>3</td>\n",
       "      <td>0</td>\n",
       "      <td>0</td>\n",
       "    </tr>\n",
       "    <tr>\n",
       "      <th>2</th>\n",
       "      <td>12250000</td>\n",
       "      <td>9960</td>\n",
       "      <td>3</td>\n",
       "      <td>2</td>\n",
       "      <td>2</td>\n",
       "      <td>1</td>\n",
       "      <td>0</td>\n",
       "      <td>1</td>\n",
       "      <td>0</td>\n",
       "      <td>0</td>\n",
       "      <td>2</td>\n",
       "      <td>1</td>\n",
       "      <td>1</td>\n",
       "    </tr>\n",
       "    <tr>\n",
       "      <th>3</th>\n",
       "      <td>12215000</td>\n",
       "      <td>7500</td>\n",
       "      <td>4</td>\n",
       "      <td>2</td>\n",
       "      <td>2</td>\n",
       "      <td>1</td>\n",
       "      <td>0</td>\n",
       "      <td>1</td>\n",
       "      <td>0</td>\n",
       "      <td>1</td>\n",
       "      <td>3</td>\n",
       "      <td>1</td>\n",
       "      <td>0</td>\n",
       "    </tr>\n",
       "    <tr>\n",
       "      <th>4</th>\n",
       "      <td>11410000</td>\n",
       "      <td>7420</td>\n",
       "      <td>4</td>\n",
       "      <td>1</td>\n",
       "      <td>2</td>\n",
       "      <td>1</td>\n",
       "      <td>1</td>\n",
       "      <td>1</td>\n",
       "      <td>0</td>\n",
       "      <td>1</td>\n",
       "      <td>2</td>\n",
       "      <td>0</td>\n",
       "      <td>0</td>\n",
       "    </tr>\n",
       "  </tbody>\n",
       "</table>\n",
       "</div>"
      ],
      "text/plain": [
       "      price  area  bedrooms  bathrooms  stories  mainroad  guestroom  \\\n",
       "0  13300000  7420         4          2        3         1          0   \n",
       "1  12250000  8960         4          4        4         1          0   \n",
       "2  12250000  9960         3          2        2         1          0   \n",
       "3  12215000  7500         4          2        2         1          0   \n",
       "4  11410000  7420         4          1        2         1          1   \n",
       "\n",
       "   basement  hotwaterheating  airconditioning  parking  prefarea  \\\n",
       "0         0                0                1        2         1   \n",
       "1         0                0                1        3         0   \n",
       "2         1                0                0        2         1   \n",
       "3         1                0                1        3         1   \n",
       "4         1                0                1        2         0   \n",
       "\n",
       "   furnishingstatus  \n",
       "0                 0  \n",
       "1                 0  \n",
       "2                 1  \n",
       "3                 0  \n",
       "4                 0  "
      ]
     },
     "execution_count": 18,
     "metadata": {},
     "output_type": "execute_result"
    }
   ],
   "source": [
    "df.head()"
   ]
  },
  {
   "cell_type": "markdown",
   "id": "82fb5322",
   "metadata": {
    "papermill": {
     "duration": 0.007848,
     "end_time": "2025-04-29T03:38:08.288798",
     "exception": false,
     "start_time": "2025-04-29T03:38:08.280950",
     "status": "completed"
    },
    "tags": []
   },
   "source": [
    "# Splitting the datasets:"
   ]
  },
  {
   "cell_type": "code",
   "execution_count": 19,
   "id": "c41425f6",
   "metadata": {
    "execution": {
     "iopub.execute_input": "2025-04-29T03:38:08.306834Z",
     "iopub.status.busy": "2025-04-29T03:38:08.306460Z",
     "iopub.status.idle": "2025-04-29T03:38:08.319382Z",
     "shell.execute_reply": "2025-04-29T03:38:08.318312Z"
    },
    "papermill": {
     "duration": 0.023713,
     "end_time": "2025-04-29T03:38:08.321074",
     "exception": false,
     "start_time": "2025-04-29T03:38:08.297361",
     "status": "completed"
    },
    "tags": []
   },
   "outputs": [],
   "source": [
    "x=df.drop(columns=['price'])\n",
    "y=df['price']"
   ]
  },
  {
   "cell_type": "code",
   "execution_count": 20,
   "id": "2eedfaee",
   "metadata": {
    "execution": {
     "iopub.execute_input": "2025-04-29T03:38:08.339021Z",
     "iopub.status.busy": "2025-04-29T03:38:08.338687Z",
     "iopub.status.idle": "2025-04-29T03:38:08.469942Z",
     "shell.execute_reply": "2025-04-29T03:38:08.468919Z"
    },
    "papermill": {
     "duration": 0.142609,
     "end_time": "2025-04-29T03:38:08.471977",
     "exception": false,
     "start_time": "2025-04-29T03:38:08.329368",
     "status": "completed"
    },
    "tags": []
   },
   "outputs": [],
   "source": [
    "from sklearn.model_selection import train_test_split"
   ]
  },
  {
   "cell_type": "code",
   "execution_count": 21,
   "id": "b146f482",
   "metadata": {
    "execution": {
     "iopub.execute_input": "2025-04-29T03:38:08.490578Z",
     "iopub.status.busy": "2025-04-29T03:38:08.490075Z",
     "iopub.status.idle": "2025-04-29T03:38:08.498749Z",
     "shell.execute_reply": "2025-04-29T03:38:08.497772Z"
    },
    "papermill": {
     "duration": 0.02002,
     "end_time": "2025-04-29T03:38:08.500418",
     "exception": false,
     "start_time": "2025-04-29T03:38:08.480398",
     "status": "completed"
    },
    "tags": []
   },
   "outputs": [],
   "source": [
    "x_train,x_test,y_train,y_test=train_test_split(x,y,test_size=0.2,random_state=42)"
   ]
  },
  {
   "cell_type": "code",
   "execution_count": 22,
   "id": "b0ecd03c",
   "metadata": {
    "execution": {
     "iopub.execute_input": "2025-04-29T03:38:08.517919Z",
     "iopub.status.busy": "2025-04-29T03:38:08.517552Z",
     "iopub.status.idle": "2025-04-29T03:38:08.528884Z",
     "shell.execute_reply": "2025-04-29T03:38:08.528010Z"
    },
    "papermill": {
     "duration": 0.021826,
     "end_time": "2025-04-29T03:38:08.530422",
     "exception": false,
     "start_time": "2025-04-29T03:38:08.508596",
     "status": "completed"
    },
    "tags": []
   },
   "outputs": [
    {
     "data": {
      "text/html": [
       "<div>\n",
       "<style scoped>\n",
       "    .dataframe tbody tr th:only-of-type {\n",
       "        vertical-align: middle;\n",
       "    }\n",
       "\n",
       "    .dataframe tbody tr th {\n",
       "        vertical-align: top;\n",
       "    }\n",
       "\n",
       "    .dataframe thead th {\n",
       "        text-align: right;\n",
       "    }\n",
       "</style>\n",
       "<table border=\"1\" class=\"dataframe\">\n",
       "  <thead>\n",
       "    <tr style=\"text-align: right;\">\n",
       "      <th></th>\n",
       "      <th>area</th>\n",
       "      <th>bedrooms</th>\n",
       "      <th>bathrooms</th>\n",
       "      <th>stories</th>\n",
       "      <th>mainroad</th>\n",
       "      <th>guestroom</th>\n",
       "      <th>basement</th>\n",
       "      <th>hotwaterheating</th>\n",
       "      <th>airconditioning</th>\n",
       "      <th>parking</th>\n",
       "      <th>prefarea</th>\n",
       "      <th>furnishingstatus</th>\n",
       "    </tr>\n",
       "  </thead>\n",
       "  <tbody>\n",
       "    <tr>\n",
       "      <th>46</th>\n",
       "      <td>6000</td>\n",
       "      <td>3</td>\n",
       "      <td>2</td>\n",
       "      <td>4</td>\n",
       "      <td>1</td>\n",
       "      <td>0</td>\n",
       "      <td>0</td>\n",
       "      <td>0</td>\n",
       "      <td>1</td>\n",
       "      <td>1</td>\n",
       "      <td>0</td>\n",
       "      <td>0</td>\n",
       "    </tr>\n",
       "    <tr>\n",
       "      <th>93</th>\n",
       "      <td>7200</td>\n",
       "      <td>3</td>\n",
       "      <td>2</td>\n",
       "      <td>1</td>\n",
       "      <td>1</td>\n",
       "      <td>0</td>\n",
       "      <td>1</td>\n",
       "      <td>0</td>\n",
       "      <td>1</td>\n",
       "      <td>3</td>\n",
       "      <td>0</td>\n",
       "      <td>1</td>\n",
       "    </tr>\n",
       "    <tr>\n",
       "      <th>335</th>\n",
       "      <td>3816</td>\n",
       "      <td>2</td>\n",
       "      <td>1</td>\n",
       "      <td>1</td>\n",
       "      <td>1</td>\n",
       "      <td>0</td>\n",
       "      <td>1</td>\n",
       "      <td>0</td>\n",
       "      <td>1</td>\n",
       "      <td>2</td>\n",
       "      <td>0</td>\n",
       "      <td>0</td>\n",
       "    </tr>\n",
       "    <tr>\n",
       "      <th>412</th>\n",
       "      <td>2610</td>\n",
       "      <td>3</td>\n",
       "      <td>1</td>\n",
       "      <td>2</td>\n",
       "      <td>1</td>\n",
       "      <td>0</td>\n",
       "      <td>1</td>\n",
       "      <td>0</td>\n",
       "      <td>0</td>\n",
       "      <td>0</td>\n",
       "      <td>1</td>\n",
       "      <td>2</td>\n",
       "    </tr>\n",
       "    <tr>\n",
       "      <th>471</th>\n",
       "      <td>3750</td>\n",
       "      <td>3</td>\n",
       "      <td>1</td>\n",
       "      <td>2</td>\n",
       "      <td>1</td>\n",
       "      <td>0</td>\n",
       "      <td>0</td>\n",
       "      <td>0</td>\n",
       "      <td>0</td>\n",
       "      <td>0</td>\n",
       "      <td>0</td>\n",
       "      <td>2</td>\n",
       "    </tr>\n",
       "  </tbody>\n",
       "</table>\n",
       "</div>"
      ],
      "text/plain": [
       "     area  bedrooms  bathrooms  stories  mainroad  guestroom  basement  \\\n",
       "46   6000         3          2        4         1          0         0   \n",
       "93   7200         3          2        1         1          0         1   \n",
       "335  3816         2          1        1         1          0         1   \n",
       "412  2610         3          1        2         1          0         1   \n",
       "471  3750         3          1        2         1          0         0   \n",
       "\n",
       "     hotwaterheating  airconditioning  parking  prefarea  furnishingstatus  \n",
       "46                 0                1        1         0                 0  \n",
       "93                 0                1        3         0                 1  \n",
       "335                0                1        2         0                 0  \n",
       "412                0                0        0         1                 2  \n",
       "471                0                0        0         0                 2  "
      ]
     },
     "execution_count": 22,
     "metadata": {},
     "output_type": "execute_result"
    }
   ],
   "source": [
    "x_train.head()"
   ]
  },
  {
   "cell_type": "code",
   "execution_count": 23,
   "id": "5fc130a5",
   "metadata": {
    "execution": {
     "iopub.execute_input": "2025-04-29T03:38:08.548114Z",
     "iopub.status.busy": "2025-04-29T03:38:08.547842Z",
     "iopub.status.idle": "2025-04-29T03:38:08.558595Z",
     "shell.execute_reply": "2025-04-29T03:38:08.557698Z"
    },
    "papermill": {
     "duration": 0.021466,
     "end_time": "2025-04-29T03:38:08.560219",
     "exception": false,
     "start_time": "2025-04-29T03:38:08.538753",
     "status": "completed"
    },
    "tags": []
   },
   "outputs": [
    {
     "data": {
      "text/html": [
       "<div>\n",
       "<style scoped>\n",
       "    .dataframe tbody tr th:only-of-type {\n",
       "        vertical-align: middle;\n",
       "    }\n",
       "\n",
       "    .dataframe tbody tr th {\n",
       "        vertical-align: top;\n",
       "    }\n",
       "\n",
       "    .dataframe thead th {\n",
       "        text-align: right;\n",
       "    }\n",
       "</style>\n",
       "<table border=\"1\" class=\"dataframe\">\n",
       "  <thead>\n",
       "    <tr style=\"text-align: right;\">\n",
       "      <th></th>\n",
       "      <th>area</th>\n",
       "      <th>bedrooms</th>\n",
       "      <th>bathrooms</th>\n",
       "      <th>stories</th>\n",
       "      <th>mainroad</th>\n",
       "      <th>guestroom</th>\n",
       "      <th>basement</th>\n",
       "      <th>hotwaterheating</th>\n",
       "      <th>airconditioning</th>\n",
       "      <th>parking</th>\n",
       "      <th>prefarea</th>\n",
       "      <th>furnishingstatus</th>\n",
       "    </tr>\n",
       "  </thead>\n",
       "  <tbody>\n",
       "    <tr>\n",
       "      <th>316</th>\n",
       "      <td>5900</td>\n",
       "      <td>4</td>\n",
       "      <td>2</td>\n",
       "      <td>2</td>\n",
       "      <td>0</td>\n",
       "      <td>0</td>\n",
       "      <td>1</td>\n",
       "      <td>0</td>\n",
       "      <td>0</td>\n",
       "      <td>1</td>\n",
       "      <td>0</td>\n",
       "      <td>2</td>\n",
       "    </tr>\n",
       "    <tr>\n",
       "      <th>77</th>\n",
       "      <td>6500</td>\n",
       "      <td>3</td>\n",
       "      <td>2</td>\n",
       "      <td>3</td>\n",
       "      <td>1</td>\n",
       "      <td>0</td>\n",
       "      <td>0</td>\n",
       "      <td>0</td>\n",
       "      <td>1</td>\n",
       "      <td>0</td>\n",
       "      <td>1</td>\n",
       "      <td>0</td>\n",
       "    </tr>\n",
       "    <tr>\n",
       "      <th>360</th>\n",
       "      <td>4040</td>\n",
       "      <td>2</td>\n",
       "      <td>1</td>\n",
       "      <td>1</td>\n",
       "      <td>1</td>\n",
       "      <td>0</td>\n",
       "      <td>0</td>\n",
       "      <td>0</td>\n",
       "      <td>0</td>\n",
       "      <td>0</td>\n",
       "      <td>0</td>\n",
       "      <td>1</td>\n",
       "    </tr>\n",
       "    <tr>\n",
       "      <th>90</th>\n",
       "      <td>5000</td>\n",
       "      <td>3</td>\n",
       "      <td>1</td>\n",
       "      <td>2</td>\n",
       "      <td>1</td>\n",
       "      <td>0</td>\n",
       "      <td>0</td>\n",
       "      <td>0</td>\n",
       "      <td>1</td>\n",
       "      <td>0</td>\n",
       "      <td>0</td>\n",
       "      <td>1</td>\n",
       "    </tr>\n",
       "    <tr>\n",
       "      <th>493</th>\n",
       "      <td>3960</td>\n",
       "      <td>3</td>\n",
       "      <td>1</td>\n",
       "      <td>1</td>\n",
       "      <td>1</td>\n",
       "      <td>0</td>\n",
       "      <td>0</td>\n",
       "      <td>0</td>\n",
       "      <td>0</td>\n",
       "      <td>0</td>\n",
       "      <td>0</td>\n",
       "      <td>0</td>\n",
       "    </tr>\n",
       "  </tbody>\n",
       "</table>\n",
       "</div>"
      ],
      "text/plain": [
       "     area  bedrooms  bathrooms  stories  mainroad  guestroom  basement  \\\n",
       "316  5900         4          2        2         0          0         1   \n",
       "77   6500         3          2        3         1          0         0   \n",
       "360  4040         2          1        1         1          0         0   \n",
       "90   5000         3          1        2         1          0         0   \n",
       "493  3960         3          1        1         1          0         0   \n",
       "\n",
       "     hotwaterheating  airconditioning  parking  prefarea  furnishingstatus  \n",
       "316                0                0        1         0                 2  \n",
       "77                 0                1        0         1                 0  \n",
       "360                0                0        0         0                 1  \n",
       "90                 0                1        0         0                 1  \n",
       "493                0                0        0         0                 0  "
      ]
     },
     "execution_count": 23,
     "metadata": {},
     "output_type": "execute_result"
    }
   ],
   "source": [
    "x_test.head()"
   ]
  },
  {
   "cell_type": "markdown",
   "id": "e41f6c1a",
   "metadata": {
    "papermill": {
     "duration": 0.008167,
     "end_time": "2025-04-29T03:38:08.577315",
     "exception": false,
     "start_time": "2025-04-29T03:38:08.569148",
     "status": "completed"
    },
    "tags": []
   },
   "source": [
    "# StandardScalar:"
   ]
  },
  {
   "cell_type": "code",
   "execution_count": 24,
   "id": "a14c94e0",
   "metadata": {
    "execution": {
     "iopub.execute_input": "2025-04-29T03:38:08.595373Z",
     "iopub.status.busy": "2025-04-29T03:38:08.595061Z",
     "iopub.status.idle": "2025-04-29T03:38:08.599891Z",
     "shell.execute_reply": "2025-04-29T03:38:08.598844Z"
    },
    "papermill": {
     "duration": 0.015717,
     "end_time": "2025-04-29T03:38:08.601510",
     "exception": false,
     "start_time": "2025-04-29T03:38:08.585793",
     "status": "completed"
    },
    "tags": []
   },
   "outputs": [],
   "source": [
    "from sklearn.preprocessing import StandardScaler"
   ]
  },
  {
   "cell_type": "code",
   "execution_count": 25,
   "id": "6bfaa398",
   "metadata": {
    "execution": {
     "iopub.execute_input": "2025-04-29T03:38:08.620613Z",
     "iopub.status.busy": "2025-04-29T03:38:08.620115Z",
     "iopub.status.idle": "2025-04-29T03:38:08.625181Z",
     "shell.execute_reply": "2025-04-29T03:38:08.624133Z"
    },
    "papermill": {
     "duration": 0.016483,
     "end_time": "2025-04-29T03:38:08.626966",
     "exception": false,
     "start_time": "2025-04-29T03:38:08.610483",
     "status": "completed"
    },
    "tags": []
   },
   "outputs": [],
   "source": [
    "ss=StandardScaler()"
   ]
  },
  {
   "cell_type": "code",
   "execution_count": 26,
   "id": "b5696dd9",
   "metadata": {
    "execution": {
     "iopub.execute_input": "2025-04-29T03:38:08.645038Z",
     "iopub.status.busy": "2025-04-29T03:38:08.644739Z",
     "iopub.status.idle": "2025-04-29T03:38:08.656872Z",
     "shell.execute_reply": "2025-04-29T03:38:08.655944Z"
    },
    "papermill": {
     "duration": 0.023417,
     "end_time": "2025-04-29T03:38:08.658882",
     "exception": false,
     "start_time": "2025-04-29T03:38:08.635465",
     "status": "completed"
    },
    "tags": []
   },
   "outputs": [],
   "source": [
    "x_train_scaled=ss.fit_transform(x_train)\n",
    "x_test_scaled=ss.transform(x_test)"
   ]
  },
  {
   "cell_type": "markdown",
   "id": "cf682c3b",
   "metadata": {
    "papermill": {
     "duration": 0.008682,
     "end_time": "2025-04-29T03:38:08.676410",
     "exception": false,
     "start_time": "2025-04-29T03:38:08.667728",
     "status": "completed"
    },
    "tags": []
   },
   "source": [
    "# Apply Linear_Regression"
   ]
  },
  {
   "cell_type": "code",
   "execution_count": 27,
   "id": "3461cfdb",
   "metadata": {
    "execution": {
     "iopub.execute_input": "2025-04-29T03:38:08.695612Z",
     "iopub.status.busy": "2025-04-29T03:38:08.695153Z",
     "iopub.status.idle": "2025-04-29T03:38:08.825852Z",
     "shell.execute_reply": "2025-04-29T03:38:08.824827Z"
    },
    "papermill": {
     "duration": 0.142806,
     "end_time": "2025-04-29T03:38:08.827703",
     "exception": false,
     "start_time": "2025-04-29T03:38:08.684897",
     "status": "completed"
    },
    "tags": []
   },
   "outputs": [],
   "source": [
    "from sklearn.linear_model import LinearRegression"
   ]
  },
  {
   "cell_type": "code",
   "execution_count": 28,
   "id": "99bee893",
   "metadata": {
    "execution": {
     "iopub.execute_input": "2025-04-29T03:38:08.847384Z",
     "iopub.status.busy": "2025-04-29T03:38:08.847063Z",
     "iopub.status.idle": "2025-04-29T03:38:08.851685Z",
     "shell.execute_reply": "2025-04-29T03:38:08.850611Z"
    },
    "papermill": {
     "duration": 0.016267,
     "end_time": "2025-04-29T03:38:08.853181",
     "exception": false,
     "start_time": "2025-04-29T03:38:08.836914",
     "status": "completed"
    },
    "tags": []
   },
   "outputs": [],
   "source": [
    "le=LinearRegression()"
   ]
  },
  {
   "cell_type": "code",
   "execution_count": 29,
   "id": "ec27e757",
   "metadata": {
    "execution": {
     "iopub.execute_input": "2025-04-29T03:38:08.871105Z",
     "iopub.status.busy": "2025-04-29T03:38:08.870789Z",
     "iopub.status.idle": "2025-04-29T03:38:08.909847Z",
     "shell.execute_reply": "2025-04-29T03:38:08.908991Z"
    },
    "papermill": {
     "duration": 0.050129,
     "end_time": "2025-04-29T03:38:08.911724",
     "exception": false,
     "start_time": "2025-04-29T03:38:08.861595",
     "status": "completed"
    },
    "tags": []
   },
   "outputs": [
    {
     "data": {
      "text/html": [
       "<style>#sk-container-id-1 {color: black;background-color: white;}#sk-container-id-1 pre{padding: 0;}#sk-container-id-1 div.sk-toggleable {background-color: white;}#sk-container-id-1 label.sk-toggleable__label {cursor: pointer;display: block;width: 100%;margin-bottom: 0;padding: 0.3em;box-sizing: border-box;text-align: center;}#sk-container-id-1 label.sk-toggleable__label-arrow:before {content: \"▸\";float: left;margin-right: 0.25em;color: #696969;}#sk-container-id-1 label.sk-toggleable__label-arrow:hover:before {color: black;}#sk-container-id-1 div.sk-estimator:hover label.sk-toggleable__label-arrow:before {color: black;}#sk-container-id-1 div.sk-toggleable__content {max-height: 0;max-width: 0;overflow: hidden;text-align: left;background-color: #f0f8ff;}#sk-container-id-1 div.sk-toggleable__content pre {margin: 0.2em;color: black;border-radius: 0.25em;background-color: #f0f8ff;}#sk-container-id-1 input.sk-toggleable__control:checked~div.sk-toggleable__content {max-height: 200px;max-width: 100%;overflow: auto;}#sk-container-id-1 input.sk-toggleable__control:checked~label.sk-toggleable__label-arrow:before {content: \"▾\";}#sk-container-id-1 div.sk-estimator input.sk-toggleable__control:checked~label.sk-toggleable__label {background-color: #d4ebff;}#sk-container-id-1 div.sk-label input.sk-toggleable__control:checked~label.sk-toggleable__label {background-color: #d4ebff;}#sk-container-id-1 input.sk-hidden--visually {border: 0;clip: rect(1px 1px 1px 1px);clip: rect(1px, 1px, 1px, 1px);height: 1px;margin: -1px;overflow: hidden;padding: 0;position: absolute;width: 1px;}#sk-container-id-1 div.sk-estimator {font-family: monospace;background-color: #f0f8ff;border: 1px dotted black;border-radius: 0.25em;box-sizing: border-box;margin-bottom: 0.5em;}#sk-container-id-1 div.sk-estimator:hover {background-color: #d4ebff;}#sk-container-id-1 div.sk-parallel-item::after {content: \"\";width: 100%;border-bottom: 1px solid gray;flex-grow: 1;}#sk-container-id-1 div.sk-label:hover label.sk-toggleable__label {background-color: #d4ebff;}#sk-container-id-1 div.sk-serial::before {content: \"\";position: absolute;border-left: 1px solid gray;box-sizing: border-box;top: 0;bottom: 0;left: 50%;z-index: 0;}#sk-container-id-1 div.sk-serial {display: flex;flex-direction: column;align-items: center;background-color: white;padding-right: 0.2em;padding-left: 0.2em;position: relative;}#sk-container-id-1 div.sk-item {position: relative;z-index: 1;}#sk-container-id-1 div.sk-parallel {display: flex;align-items: stretch;justify-content: center;background-color: white;position: relative;}#sk-container-id-1 div.sk-item::before, #sk-container-id-1 div.sk-parallel-item::before {content: \"\";position: absolute;border-left: 1px solid gray;box-sizing: border-box;top: 0;bottom: 0;left: 50%;z-index: -1;}#sk-container-id-1 div.sk-parallel-item {display: flex;flex-direction: column;z-index: 1;position: relative;background-color: white;}#sk-container-id-1 div.sk-parallel-item:first-child::after {align-self: flex-end;width: 50%;}#sk-container-id-1 div.sk-parallel-item:last-child::after {align-self: flex-start;width: 50%;}#sk-container-id-1 div.sk-parallel-item:only-child::after {width: 0;}#sk-container-id-1 div.sk-dashed-wrapped {border: 1px dashed gray;margin: 0 0.4em 0.5em 0.4em;box-sizing: border-box;padding-bottom: 0.4em;background-color: white;}#sk-container-id-1 div.sk-label label {font-family: monospace;font-weight: bold;display: inline-block;line-height: 1.2em;}#sk-container-id-1 div.sk-label-container {text-align: center;}#sk-container-id-1 div.sk-container {/* jupyter's `normalize.less` sets `[hidden] { display: none; }` but bootstrap.min.css set `[hidden] { display: none !important; }` so we also need the `!important` here to be able to override the default hidden behavior on the sphinx rendered scikit-learn.org. See: https://github.com/scikit-learn/scikit-learn/issues/21755 */display: inline-block !important;position: relative;}#sk-container-id-1 div.sk-text-repr-fallback {display: none;}</style><div id=\"sk-container-id-1\" class=\"sk-top-container\"><div class=\"sk-text-repr-fallback\"><pre>LinearRegression()</pre><b>In a Jupyter environment, please rerun this cell to show the HTML representation or trust the notebook. <br />On GitHub, the HTML representation is unable to render, please try loading this page with nbviewer.org.</b></div><div class=\"sk-container\" hidden><div class=\"sk-item\"><div class=\"sk-estimator sk-toggleable\"><input class=\"sk-toggleable__control sk-hidden--visually\" id=\"sk-estimator-id-1\" type=\"checkbox\" checked><label for=\"sk-estimator-id-1\" class=\"sk-toggleable__label sk-toggleable__label-arrow\">LinearRegression</label><div class=\"sk-toggleable__content\"><pre>LinearRegression()</pre></div></div></div></div></div>"
      ],
      "text/plain": [
       "LinearRegression()"
      ]
     },
     "execution_count": 29,
     "metadata": {},
     "output_type": "execute_result"
    }
   ],
   "source": [
    "le.fit(x_train_scaled,y_train)"
   ]
  },
  {
   "cell_type": "code",
   "execution_count": 30,
   "id": "6ba62e23",
   "metadata": {
    "execution": {
     "iopub.execute_input": "2025-04-29T03:38:08.931988Z",
     "iopub.status.busy": "2025-04-29T03:38:08.931665Z",
     "iopub.status.idle": "2025-04-29T03:38:08.939940Z",
     "shell.execute_reply": "2025-04-29T03:38:08.938572Z"
    },
    "papermill": {
     "duration": 0.021436,
     "end_time": "2025-04-29T03:38:08.942214",
     "exception": false,
     "start_time": "2025-04-29T03:38:08.920778",
     "status": "completed"
    },
    "tags": []
   },
   "outputs": [],
   "source": [
    "y_pred=le.predict(x_test_scaled)"
   ]
  },
  {
   "cell_type": "code",
   "execution_count": 31,
   "id": "96c22560",
   "metadata": {
    "execution": {
     "iopub.execute_input": "2025-04-29T03:38:08.963252Z",
     "iopub.status.busy": "2025-04-29T03:38:08.962959Z",
     "iopub.status.idle": "2025-04-29T03:38:08.969690Z",
     "shell.execute_reply": "2025-04-29T03:38:08.968755Z"
    },
    "papermill": {
     "duration": 0.019485,
     "end_time": "2025-04-29T03:38:08.971330",
     "exception": false,
     "start_time": "2025-04-29T03:38:08.951845",
     "status": "completed"
    },
    "tags": []
   },
   "outputs": [
    {
     "data": {
      "text/plain": [
       "array([5203691.70963177, 7257004.02115475, 3062828.59668172,\n",
       "       4559591.65374424, 3332932.30559783, 3563080.67918996,\n",
       "       5645466.3121997 , 6413979.66873635, 2755831.54819001,\n",
       "       2668938.6607523 , 9570600.29915351, 2827431.50860062,\n",
       "       3195686.25834091, 3352263.99438472, 3713879.49996132,\n",
       "       5301088.2443575 , 2987920.26669681, 4810799.8212371 ,\n",
       "       4383031.70489929, 3525092.18938646, 5796259.50068013,\n",
       "       5840000.702993  , 2760214.608641  , 4762590.14920608,\n",
       "       5204755.73895205, 7515542.71619022, 3254681.68956383,\n",
       "       5236164.45964445, 8178523.1682028 , 3434166.1567565 ,\n",
       "       6443921.58767582, 3346004.77919185, 6742324.74004132,\n",
       "       4154936.84088665, 3589152.47491253, 5788125.92515323,\n",
       "       4768370.18154077, 4391684.04193173, 3217657.04549936,\n",
       "       4638196.61928879, 4522160.27786713, 3541284.06127246,\n",
       "       7238136.1194117 , 4021515.68926614, 3701978.76822756,\n",
       "       4298879.55563098, 6705004.0206061 , 3993466.52296897,\n",
       "       3798185.05328058, 3451821.56242891, 7293996.8686746 ,\n",
       "       2832905.26972679, 4378698.14769929, 4468002.85418353,\n",
       "       3714623.89765884, 2718466.9028278 , 7524449.64983625,\n",
       "       2950437.14952811, 4194596.2859292 , 2795827.77318101,\n",
       "       4801788.72577029, 3618230.29875973, 5091685.77019751,\n",
       "       4248122.70647652, 4729964.20281946, 4620982.93634111,\n",
       "       7215846.76983926, 3485106.19132683, 5933820.14349912,\n",
       "       6236580.98095547, 4809923.61016   , 5130920.22938947,\n",
       "       4527282.87392582, 8006869.07208364, 3543927.63713717,\n",
       "       5463086.05281817, 3902441.28505163, 4661063.63495886,\n",
       "       4825370.89331733, 4276803.47099967, 7754072.71344457,\n",
       "       4008573.23235629, 6500977.91345038, 5386796.00909807,\n",
       "       2785343.00927642, 6836356.36771845, 2638553.49378048,\n",
       "       3634231.99215349, 8004072.41154   , 8048399.75418243,\n",
       "       3227573.6968731 , 5935167.41983539, 3605772.48317454,\n",
       "       3817767.91420863, 7631673.34074556, 4775106.62670538,\n",
       "       5093491.4444293 , 6447437.14797692, 4943449.6813564 ,\n",
       "       5943929.14295425, 3810460.26405426, 6457426.32302762,\n",
       "       3701491.23218179, 5960492.47343074, 4933137.14530295,\n",
       "       4377133.13624286, 7009335.02696998, 6351460.97128316,\n",
       "       6409340.4108967 ])"
      ]
     },
     "execution_count": 31,
     "metadata": {},
     "output_type": "execute_result"
    }
   ],
   "source": [
    "y_pred"
   ]
  },
  {
   "cell_type": "code",
   "execution_count": 32,
   "id": "a80617d0",
   "metadata": {
    "execution": {
     "iopub.execute_input": "2025-04-29T03:38:08.990752Z",
     "iopub.status.busy": "2025-04-29T03:38:08.990394Z",
     "iopub.status.idle": "2025-04-29T03:38:08.995877Z",
     "shell.execute_reply": "2025-04-29T03:38:08.994625Z"
    },
    "papermill": {
     "duration": 0.016893,
     "end_time": "2025-04-29T03:38:08.997652",
     "exception": false,
     "start_time": "2025-04-29T03:38:08.980759",
     "status": "completed"
    },
    "tags": []
   },
   "outputs": [],
   "source": [
    "from sklearn.metrics import mean_absolute_error,mean_squared_error,r2_score"
   ]
  },
  {
   "cell_type": "code",
   "execution_count": 33,
   "id": "b8f7b44f",
   "metadata": {
    "execution": {
     "iopub.execute_input": "2025-04-29T03:38:09.018058Z",
     "iopub.status.busy": "2025-04-29T03:38:09.017743Z",
     "iopub.status.idle": "2025-04-29T03:38:09.024474Z",
     "shell.execute_reply": "2025-04-29T03:38:09.023175Z"
    },
    "papermill": {
     "duration": 0.018842,
     "end_time": "2025-04-29T03:38:09.026323",
     "exception": false,
     "start_time": "2025-04-29T03:38:09.007481",
     "status": "completed"
    },
    "tags": []
   },
   "outputs": [],
   "source": [
    "MAE=mean_absolute_error(y_test,y_pred)"
   ]
  },
  {
   "cell_type": "code",
   "execution_count": 34,
   "id": "5fd3bdb8",
   "metadata": {
    "execution": {
     "iopub.execute_input": "2025-04-29T03:38:09.045410Z",
     "iopub.status.busy": "2025-04-29T03:38:09.045062Z",
     "iopub.status.idle": "2025-04-29T03:38:09.050470Z",
     "shell.execute_reply": "2025-04-29T03:38:09.049744Z"
    },
    "papermill": {
     "duration": 0.016605,
     "end_time": "2025-04-29T03:38:09.051910",
     "exception": false,
     "start_time": "2025-04-29T03:38:09.035305",
     "status": "completed"
    },
    "tags": []
   },
   "outputs": [
    {
     "data": {
      "text/plain": [
       "979679.6912959907"
      ]
     },
     "execution_count": 34,
     "metadata": {},
     "output_type": "execute_result"
    }
   ],
   "source": [
    "MAE"
   ]
  },
  {
   "cell_type": "code",
   "execution_count": 35,
   "id": "8a056ce0",
   "metadata": {
    "execution": {
     "iopub.execute_input": "2025-04-29T03:38:09.070994Z",
     "iopub.status.busy": "2025-04-29T03:38:09.070701Z",
     "iopub.status.idle": "2025-04-29T03:38:09.077952Z",
     "shell.execute_reply": "2025-04-29T03:38:09.076841Z"
    },
    "papermill": {
     "duration": 0.018857,
     "end_time": "2025-04-29T03:38:09.079661",
     "exception": false,
     "start_time": "2025-04-29T03:38:09.060804",
     "status": "completed"
    },
    "tags": []
   },
   "outputs": [
    {
     "data": {
      "text/plain": [
       "1771751116594.0398"
      ]
     },
     "execution_count": 35,
     "metadata": {},
     "output_type": "execute_result"
    }
   ],
   "source": [
    "mean_squared_error(y_test,y_pred)"
   ]
  },
  {
   "cell_type": "code",
   "execution_count": 36,
   "id": "8a558020",
   "metadata": {
    "execution": {
     "iopub.execute_input": "2025-04-29T03:38:09.099174Z",
     "iopub.status.busy": "2025-04-29T03:38:09.098824Z",
     "iopub.status.idle": "2025-04-29T03:38:09.106498Z",
     "shell.execute_reply": "2025-04-29T03:38:09.105515Z"
    },
    "papermill": {
     "duration": 0.019495,
     "end_time": "2025-04-29T03:38:09.108085",
     "exception": false,
     "start_time": "2025-04-29T03:38:09.088590",
     "status": "completed"
    },
    "tags": []
   },
   "outputs": [
    {
     "data": {
      "text/plain": [
       "0.6494754192267794"
      ]
     },
     "execution_count": 36,
     "metadata": {},
     "output_type": "execute_result"
    }
   ],
   "source": [
    "r2_score(y_test,y_pred)"
   ]
  },
  {
   "cell_type": "code",
   "execution_count": null,
   "id": "997f5157",
   "metadata": {
    "papermill": {
     "duration": 0.008769,
     "end_time": "2025-04-29T03:38:09.126173",
     "exception": false,
     "start_time": "2025-04-29T03:38:09.117404",
     "status": "completed"
    },
    "tags": []
   },
   "outputs": [],
   "source": []
  }
 ],
 "metadata": {
  "kaggle": {
   "accelerator": "none",
   "dataSources": [
    {
     "datasetId": 3489360,
     "sourceId": 6092787,
     "sourceType": "datasetVersion"
    }
   ],
   "dockerImageVersionId": 31012,
   "isGpuEnabled": false,
   "isInternetEnabled": true,
   "language": "python",
   "sourceType": "notebook"
  },
  "kernelspec": {
   "display_name": "Python 3",
   "language": "python",
   "name": "python3"
  },
  "language_info": {
   "codemirror_mode": {
    "name": "ipython",
    "version": 3
   },
   "file_extension": ".py",
   "mimetype": "text/x-python",
   "name": "python",
   "nbconvert_exporter": "python",
   "pygments_lexer": "ipython3",
   "version": "3.11.11"
  },
  "papermill": {
   "default_parameters": {},
   "duration": 11.562153,
   "end_time": "2025-04-29T03:38:09.856911",
   "environment_variables": {},
   "exception": null,
   "input_path": "__notebook__.ipynb",
   "output_path": "__notebook__.ipynb",
   "parameters": {},
   "start_time": "2025-04-29T03:37:58.294758",
   "version": "2.6.0"
  }
 },
 "nbformat": 4,
 "nbformat_minor": 5
}
